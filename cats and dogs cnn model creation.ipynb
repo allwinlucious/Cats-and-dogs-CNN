{
 "cells": [
  {
   "cell_type": "code",
   "execution_count": 1,
   "id": "00ce944b",
   "metadata": {},
   "outputs": [],
   "source": [
    "import tensorflow as tf\n",
    "from tensorflow.keras.models import Sequential\n",
    "from tensorflow.keras.layers import Dense, Dropout, Activation, Flatten, Conv2D, MaxPooling2D\n",
    "import pickle\n",
    "from datetime import datetime\n",
    "\n",
    "X = pickle.load(open(\"X.pickle\",\"rb\"))\n",
    "y = pickle.load(open(\"y.pickle\",\"rb\"))\n",
    "\n",
    "X = tf.keras.utils.normalize(X, axis=1)\n",
    "\n"
   ]
  },
  {
   "cell_type": "markdown",
   "id": "d52333bf",
   "metadata": {},
   "source": [
    "compare multiple model architectures and tune hyperparameters with the help of tensorboard"
   ]
  },
  {
   "cell_type": "code",
   "execution_count": 10,
   "id": "cb55c893",
   "metadata": {},
   "outputs": [
    {
     "name": "stdout",
     "output_type": "stream",
     "text": [
      "Epoch 1/11\n",
      "  2/704 [..............................] - ETA: 3:45 - loss: 0.6950 - accuracy: 0.4688WARNING:tensorflow:Callbacks method `on_train_batch_end` is slow compared to the batch time (batch time: 0.0050s vs `on_train_batch_end` time: 0.6370s). Check your callbacks.\n",
      "704/704 [==============================] - 6s 8ms/step - loss: 0.6679 - accuracy: 0.5739 - val_loss: 0.6148 - val_accuracy: 0.6752\n",
      "Epoch 2/11\n",
      "704/704 [==============================] - 5s 7ms/step - loss: 0.5930 - accuracy: 0.6852 - val_loss: 0.5547 - val_accuracy: 0.7168\n",
      "Epoch 3/11\n",
      "704/704 [==============================] - 5s 7ms/step - loss: 0.5256 - accuracy: 0.7393 - val_loss: 0.5406 - val_accuracy: 0.7244\n",
      "Epoch 4/11\n",
      "704/704 [==============================] - 5s 7ms/step - loss: 0.4833 - accuracy: 0.7674 - val_loss: 0.5050 - val_accuracy: 0.7532\n",
      "Epoch 5/11\n",
      "704/704 [==============================] - 5s 7ms/step - loss: 0.4545 - accuracy: 0.7856 - val_loss: 0.5066 - val_accuracy: 0.7564\n",
      "Epoch 6/11\n",
      "704/704 [==============================] - 5s 7ms/step - loss: 0.4282 - accuracy: 0.7989 - val_loss: 0.4884 - val_accuracy: 0.7648\n",
      "Epoch 7/11\n",
      "704/704 [==============================] - 5s 7ms/step - loss: 0.4055 - accuracy: 0.8146 - val_loss: 0.4719 - val_accuracy: 0.7728\n",
      "Epoch 8/11\n",
      "704/704 [==============================] - 5s 7ms/step - loss: 0.3793 - accuracy: 0.8310 - val_loss: 0.5074 - val_accuracy: 0.7740\n",
      "Epoch 9/11\n",
      "704/704 [==============================] - 5s 7ms/step - loss: 0.3568 - accuracy: 0.8407 - val_loss: 0.5472 - val_accuracy: 0.7508\n",
      "Epoch 10/11\n",
      "704/704 [==============================] - 5s 7ms/step - loss: 0.3376 - accuracy: 0.8512 - val_loss: 0.4550 - val_accuracy: 0.7928\n",
      "Epoch 11/11\n",
      "704/704 [==============================] - 5s 7ms/step - loss: 0.3109 - accuracy: 0.8662 - val_loss: 0.4545 - val_accuracy: 0.7992\n"
     ]
    },
    {
     "data": {
      "text/plain": [
       "<tensorflow.python.keras.callbacks.History at 0x28317d57160>"
      ]
     },
     "execution_count": 10,
     "metadata": {},
     "output_type": "execute_result"
    }
   ],
   "source": [
    "logdir = \"logs/scalars/\" + datetime.now().strftime(\"%Y%m%d-%H%M%S\")\n",
    "tensorboard_callback = tf.keras.callbacks.TensorBoard(log_dir=logdir)#tf.keras.callbacks.ModelCheckpoint can also be used to save check points\n",
    "\n",
    "model = Sequential()\n",
    "\n",
    "model.add(Conv2D(64,(3,3),input_shape = X.shape[1:]))\n",
    "model.add(Activation(\"relu\"))\n",
    "model.add(MaxPooling2D(pool_size=(2,2)))\n",
    "\n",
    "model.add(Conv2D(128,(3,3),input_shape = X.shape[1:]))\n",
    "model.add(Activation(\"relu\"))\n",
    "model.add(MaxPooling2D(pool_size=(2,2)))\n",
    "\n",
    "model.add(Conv2D(256,(3,3),input_shape = X.shape[1:]))\n",
    "model.add(Activation(\"relu\"))\n",
    "model.add(MaxPooling2D(pool_size=(2,2)))\n",
    "                    \n",
    "model.add(Flatten())\n",
    "#model.add(Dense(64)) #activation can be done in both ways\n",
    "#model.add(Activation(\"relu\"))\n",
    "\n",
    "model.add(Dense(1))\n",
    "model.add(Activation(\"sigmoid\"))\n",
    "\n",
    "    \n",
    "model.compile(loss =\"binary_crossentropy\",optimizer = \"adam\", metrics=['accuracy'])\n",
    "\n",
    "model.fit(X,y,batch_size=32,epochs = 11, validation_split = 0.1,callbacks =[tensorboard_callback] )"
   ]
  },
  {
   "cell_type": "markdown",
   "id": "406f493a",
   "metadata": {},
   "source": [
    "open anaconda prompt in current directory \"tensorboard --logdir logs/scalars\""
   ]
  },
  {
   "cell_type": "markdown",
   "id": "98dcead0",
   "metadata": {},
   "source": [
    "to find out best number of conv, dense layers, their filter sizes,etc manually training multiple loops(nested for loops) and compare them in tensorboard ."
   ]
  },
  {
   "cell_type": "code",
   "execution_count": 12,
   "id": "48dd9d3d",
   "metadata": {},
   "outputs": [
    {
     "name": "stdout",
     "output_type": "stream",
     "text": [
      "WARNING:tensorflow:From C:\\Users\\allwi\\anaconda3\\envs\\tf\\lib\\site-packages\\tensorflow\\python\\training\\tracking\\tracking.py:111: Model.state_updates (from tensorflow.python.keras.engine.training) is deprecated and will be removed in a future version.\n",
      "Instructions for updating:\n",
      "This property should not be used in TensorFlow 2.0, as updates are applied automatically.\n",
      "WARNING:tensorflow:From C:\\Users\\allwi\\anaconda3\\envs\\tf\\lib\\site-packages\\tensorflow\\python\\training\\tracking\\tracking.py:111: Layer.updates (from tensorflow.python.keras.engine.base_layer) is deprecated and will be removed in a future version.\n",
      "Instructions for updating:\n",
      "This property should not be used in TensorFlow 2.0, as updates are applied automatically.\n",
      "INFO:tensorflow:Assets written to: 64,128,256Convnet-0-dense\\assets\n"
     ]
    }
   ],
   "source": [
    "model.save('64,128,256Convnet-0-dense')"
   ]
  },
  {
   "cell_type": "code",
   "execution_count": null,
   "id": "8a9c0d1b",
   "metadata": {},
   "outputs": [],
   "source": []
  }
 ],
 "metadata": {
  "kernelspec": {
   "display_name": "Python 3 (ipykernel)",
   "language": "python",
   "name": "python3"
  },
  "language_info": {
   "codemirror_mode": {
    "name": "ipython",
    "version": 3
   },
   "file_extension": ".py",
   "mimetype": "text/x-python",
   "name": "python",
   "nbconvert_exporter": "python",
   "pygments_lexer": "ipython3",
   "version": "3.8.13"
  }
 },
 "nbformat": 4,
 "nbformat_minor": 5
}
