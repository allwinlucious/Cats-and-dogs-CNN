{
 "cells": [
  {
   "cell_type": "code",
   "execution_count": 1,
   "id": "404e8b16",
   "metadata": {},
   "outputs": [],
   "source": [
    "import numpy as np\n",
    "import os\n",
    "import cv2\n",
    "\n",
    "import matplotlib.pyplot as plt\n",
    "%matplotlib inline\n"
   ]
  },
  {
   "cell_type": "code",
   "execution_count": 2,
   "id": "1887957b",
   "metadata": {},
   "outputs": [],
   "source": [
    "def classify(img):\n",
    "    if img[0:3].lower()== 'cat':\n",
    "        return 0\n",
    "    if img[0:3].lower()== 'dog':\n",
    "        return 1\n",
    "   #do exception handling here\n",
    "    else :\n",
    "        print(\"error in data set naming\")\n",
    "        return \n",
    "        "
   ]
  },
  {
   "cell_type": "code",
   "execution_count": 3,
   "id": "cbe52d44",
   "metadata": {},
   "outputs": [],
   "source": [
    "training_data = []\n",
    "IMG_SIZE = 50\n",
    "\n",
    "path = \"dogs-vs-cats/train/train\"\n",
    "for img in os.listdir(path):\n",
    "    \n",
    "    img_array = cv2.imread(os.path.join(path,img), cv2.IMREAD_GRAYSCALE)\n",
    "    img_array = cv2.resize(img_array,(IMG_SIZE,IMG_SIZE))\n",
    "    training_data.append([img_array,classify(img)])\n",
    "np.random.shuffle(training_data)"
   ]
  },
  {
   "cell_type": "code",
   "execution_count": 4,
   "id": "8d059a1f",
   "metadata": {},
   "outputs": [],
   "source": [
    "X_train = []\n",
    "y_train = []\n",
    "\n",
    "for features,label in training_data:\n",
    "    X_train.append(features)\n",
    "    y_train.append(label)\n",
    "X_train = np.array(X_train).reshape(-1,IMG_SIZE,IMG_SIZE,1)\n",
    "y_train = np.array(y_train)"
   ]
  },
  {
   "cell_type": "markdown",
   "id": "a4c116ad",
   "metadata": {},
   "source": [
    "### saving the training data"
   ]
  },
  {
   "cell_type": "code",
   "execution_count": 5,
   "id": "7a8cbf38",
   "metadata": {},
   "outputs": [],
   "source": [
    "import pickle\n",
    "\n",
    "file = open(\"X.pickle\",\"wb\")#open file in write binary mode\n",
    "pickle.dump(X_train,file)\n",
    "file.close()\n",
    "\n",
    "file = open(\"y.pickle\",\"wb\")#open file in write binary mode\n",
    "pickle.dump(y_train,file)\n",
    "file.close()\n"
   ]
  },
  {
   "cell_type": "markdown",
   "id": "ceefd540",
   "metadata": {},
   "source": [
    "### loading the training data"
   ]
  },
  {
   "cell_type": "code",
   "execution_count": 6,
   "id": "bdb0b3c3",
   "metadata": {},
   "outputs": [],
   "source": [
    "infile = open(\"X.pickle\",\"rb\")\n",
    "X_train = pickle.load(infile)\n",
    "infile.close()\n",
    "\n",
    "infile = open(\"y.pickle\",\"rb\")\n",
    "y_train = pickle.load(infile)\n",
    "infile.close()"
   ]
  },
  {
   "cell_type": "code",
   "execution_count": null,
   "id": "70f9e2a7",
   "metadata": {},
   "outputs": [],
   "source": []
  }
 ],
 "metadata": {
  "kernelspec": {
   "display_name": "Python 3 (ipykernel)",
   "language": "python",
   "name": "python3"
  },
  "language_info": {
   "codemirror_mode": {
    "name": "ipython",
    "version": 3
   },
   "file_extension": ".py",
   "mimetype": "text/x-python",
   "name": "python",
   "nbconvert_exporter": "python",
   "pygments_lexer": "ipython3",
   "version": "3.8.13"
  }
 },
 "nbformat": 4,
 "nbformat_minor": 5
}
